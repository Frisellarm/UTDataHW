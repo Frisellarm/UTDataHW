{
 "cells": [
  {
   "cell_type": "markdown",
   "metadata": {},
   "source": [
    "Pyber Analysis by Zeshaun Subhani\n",
    "\n",
    "These are some observable trends based on the data:\n",
    "\n",
    "1. The large majority of ride sharing takes place in urban cities compared to suburban and rural ares. 68.4% of total rides occurred in the urban city type. This makes sense because in urban cities, parking spots are usually limited and it's more convenient to use ride sharing to get from one place to another without having to worry about parking.\n",
    "\n",
    "2. Urban cities also have the largest percentage of drivers compared to rural and suburban cities. The driver count should correlate to where the largest amount of ride sharing takes place so that supply (amount of drivers) meets demand (amount of rides being requested/taken).\n",
    "\n",
    "3. The highest average fares generally are in the rural cities compared to suburban and urban cities. This is likely due to fewer amount of drivers being available in rural cities so the ride sharing company can charge more for fares in those areas."
   ]
  },
  {
   "cell_type": "code",
   "execution_count": 1,
   "metadata": {},
   "outputs": [
    {
     "data": {
      "text/html": [
       "<div>\n",
       "<style scoped>\n",
       "    .dataframe tbody tr th:only-of-type {\n",
       "        vertical-align: middle;\n",
       "    }\n",
       "\n",
       "    .dataframe tbody tr th {\n",
       "        vertical-align: top;\n",
       "    }\n",
       "\n",
       "    .dataframe thead th {\n",
       "        text-align: right;\n",
       "    }\n",
       "</style>\n",
       "<table border=\"1\" class=\"dataframe\">\n",
       "  <thead>\n",
       "    <tr style=\"text-align: right;\">\n",
       "      <th></th>\n",
       "      <th>city</th>\n",
       "      <th>date</th>\n",
       "      <th>fare</th>\n",
       "      <th>ride_id</th>\n",
       "      <th>driver_count</th>\n",
       "      <th>type</th>\n",
       "    </tr>\n",
       "  </thead>\n",
       "  <tbody>\n",
       "    <tr>\n",
       "      <th>0</th>\n",
       "      <td>Lake Jonathanshire</td>\n",
       "      <td>2018-01-14 10:14:22</td>\n",
       "      <td>13.83</td>\n",
       "      <td>5739410935873</td>\n",
       "      <td>5</td>\n",
       "      <td>Urban</td>\n",
       "    </tr>\n",
       "    <tr>\n",
       "      <th>1</th>\n",
       "      <td>South Michelleport</td>\n",
       "      <td>2018-03-04 18:24:09</td>\n",
       "      <td>30.24</td>\n",
       "      <td>2343912425577</td>\n",
       "      <td>72</td>\n",
       "      <td>Urban</td>\n",
       "    </tr>\n",
       "    <tr>\n",
       "      <th>2</th>\n",
       "      <td>Port Samanthamouth</td>\n",
       "      <td>2018-02-24 04:29:00</td>\n",
       "      <td>33.44</td>\n",
       "      <td>2005065760003</td>\n",
       "      <td>57</td>\n",
       "      <td>Urban</td>\n",
       "    </tr>\n",
       "    <tr>\n",
       "      <th>3</th>\n",
       "      <td>Rodneyfort</td>\n",
       "      <td>2018-02-10 23:22:03</td>\n",
       "      <td>23.44</td>\n",
       "      <td>5149245426178</td>\n",
       "      <td>34</td>\n",
       "      <td>Urban</td>\n",
       "    </tr>\n",
       "    <tr>\n",
       "      <th>4</th>\n",
       "      <td>South Jack</td>\n",
       "      <td>2018-03-06 04:28:35</td>\n",
       "      <td>34.58</td>\n",
       "      <td>3908451377344</td>\n",
       "      <td>46</td>\n",
       "      <td>Urban</td>\n",
       "    </tr>\n",
       "  </tbody>\n",
       "</table>\n",
       "</div>"
      ],
      "text/plain": [
       "                 city                 date   fare        ride_id  \\\n",
       "0  Lake Jonathanshire  2018-01-14 10:14:22  13.83  5739410935873   \n",
       "1  South Michelleport  2018-03-04 18:24:09  30.24  2343912425577   \n",
       "2  Port Samanthamouth  2018-02-24 04:29:00  33.44  2005065760003   \n",
       "3          Rodneyfort  2018-02-10 23:22:03  23.44  5149245426178   \n",
       "4          South Jack  2018-03-06 04:28:35  34.58  3908451377344   \n",
       "\n",
       "   driver_count   type  \n",
       "0             5  Urban  \n",
       "1            72  Urban  \n",
       "2            57  Urban  \n",
       "3            34  Urban  \n",
       "4            46  Urban  "
      ]
     },
     "execution_count": 1,
     "metadata": {},
     "output_type": "execute_result"
    }
   ],
   "source": [
    "%matplotlib inline\n",
    "# Dependencies and Setup\n",
    "import matplotlib.pyplot as plt\n",
    "import pandas as pd\n",
    "import numpy as np\n",
    "\n",
    "# File to Load (Remember to change these)\n",
    "city_data_to_load = \"data/city_data.csv\"\n",
    "ride_data_to_load = \"data/ride_data.csv\"\n",
    "\n",
    "# Read the City and Ride Data\n",
    "city_df = pd.read_csv(city_data_to_load)\n",
    "ride_df = pd.read_csv(ride_data_to_load)\n",
    "\n",
    "# Combine the data into a single dataset\n",
    "combined_df = pd.merge(ride_df, city_df, how='left', on='city')\n",
    "\n",
    "\n",
    "# Display the data table for preview\n",
    "combined_df.head()"
   ]
  },
  {
   "cell_type": "code",
   "execution_count": null,
   "metadata": {},
   "outputs": [],
   "source": []
  },
  {
   "cell_type": "code",
   "execution_count": 1,
   "metadata": {
    "scrolled": true
   },
   "outputs": [
    {
     "data": {
      "text/html": [
       "<div>\n",
       "<style scoped>\n",
       "    .dataframe tbody tr th:only-of-type {\n",
       "        vertical-align: middle;\n",
       "    }\n",
       "\n",
       "    .dataframe tbody tr th {\n",
       "        vertical-align: top;\n",
       "    }\n",
       "\n",
       "    .dataframe thead th {\n",
       "        text-align: right;\n",
       "    }\n",
       "</style>\n",
       "<table border=\"1\" class=\"dataframe\">\n",
       "  <thead>\n",
       "    <tr style=\"text-align: right;\">\n",
       "      <th></th>\n",
       "      <th>city</th>\n",
       "      <th>date</th>\n",
       "      <th>fare</th>\n",
       "      <th>ride_id</th>\n",
       "      <th>driver_count</th>\n",
       "      <th>type</th>\n",
       "    </tr>\n",
       "  </thead>\n",
       "  <tbody>\n",
       "    <tr>\n",
       "      <th>0</th>\n",
       "      <td>Lake Jonathanshire</td>\n",
       "      <td>2018-01-14 10:14:22</td>\n",
       "      <td>13.83</td>\n",
       "      <td>5739410935873</td>\n",
       "      <td>5</td>\n",
       "      <td>Urban</td>\n",
       "    </tr>\n",
       "    <tr>\n",
       "      <th>1</th>\n",
       "      <td>South Michelleport</td>\n",
       "      <td>2018-03-04 18:24:09</td>\n",
       "      <td>30.24</td>\n",
       "      <td>2343912425577</td>\n",
       "      <td>72</td>\n",
       "      <td>Urban</td>\n",
       "    </tr>\n",
       "    <tr>\n",
       "      <th>2</th>\n",
       "      <td>Port Samanthamouth</td>\n",
       "      <td>2018-02-24 04:29:00</td>\n",
       "      <td>33.44</td>\n",
       "      <td>2005065760003</td>\n",
       "      <td>57</td>\n",
       "      <td>Urban</td>\n",
       "    </tr>\n",
       "    <tr>\n",
       "      <th>3</th>\n",
       "      <td>Rodneyfort</td>\n",
       "      <td>2018-02-10 23:22:03</td>\n",
       "      <td>23.44</td>\n",
       "      <td>5149245426178</td>\n",
       "      <td>34</td>\n",
       "      <td>Urban</td>\n",
       "    </tr>\n",
       "    <tr>\n",
       "      <th>4</th>\n",
       "      <td>South Jack</td>\n",
       "      <td>2018-03-06 04:28:35</td>\n",
       "      <td>34.58</td>\n",
       "      <td>3908451377344</td>\n",
       "      <td>46</td>\n",
       "      <td>Urban</td>\n",
       "    </tr>\n",
       "  </tbody>\n",
       "</table>\n",
       "</div>"
      ],
      "text/plain": [
       "                 city                 date   fare        ride_id  \\\n",
       "0  Lake Jonathanshire  2018-01-14 10:14:22  13.83  5739410935873   \n",
       "1  South Michelleport  2018-03-04 18:24:09  30.24  2343912425577   \n",
       "2  Port Samanthamouth  2018-02-24 04:29:00  33.44  2005065760003   \n",
       "3          Rodneyfort  2018-02-10 23:22:03  23.44  5149245426178   \n",
       "4          South Jack  2018-03-06 04:28:35  34.58  3908451377344   \n",
       "\n",
       "   driver_count   type  \n",
       "0             5  Urban  \n",
       "1            72  Urban  \n",
       "2            57  Urban  \n",
       "3            34  Urban  \n",
       "4            46  Urban  "
      ]
     },
     "execution_count": 1,
     "metadata": {},
     "output_type": "execute_result"
    }
   ],
   "source": []
  },
  {
   "cell_type": "markdown",
   "metadata": {},
   "source": [
    "## Bubble Plot of Ride Sharing Data"
   ]
  },
  {
   "cell_type": "code",
   "execution_count": 2,
   "metadata": {},
   "outputs": [
    {
     "data": {
      "text/html": [
       "<div>\n",
       "<style scoped>\n",
       "    .dataframe tbody tr th:only-of-type {\n",
       "        vertical-align: middle;\n",
       "    }\n",
       "\n",
       "    .dataframe tbody tr th {\n",
       "        vertical-align: top;\n",
       "    }\n",
       "\n",
       "    .dataframe thead th {\n",
       "        text-align: right;\n",
       "    }\n",
       "</style>\n",
       "<table border=\"1\" class=\"dataframe\">\n",
       "  <thead>\n",
       "    <tr style=\"text-align: right;\">\n",
       "      <th></th>\n",
       "      <th>city</th>\n",
       "      <th>date</th>\n",
       "      <th>fare</th>\n",
       "      <th>ride_id</th>\n",
       "      <th>driver_count</th>\n",
       "      <th>type</th>\n",
       "    </tr>\n",
       "  </thead>\n",
       "  <tbody>\n",
       "    <tr>\n",
       "      <th>0</th>\n",
       "      <td>Lake Jonathanshire</td>\n",
       "      <td>2018-01-14 10:14:22</td>\n",
       "      <td>13.83</td>\n",
       "      <td>5739410935873</td>\n",
       "      <td>5</td>\n",
       "      <td>Urban</td>\n",
       "    </tr>\n",
       "    <tr>\n",
       "      <th>1</th>\n",
       "      <td>South Michelleport</td>\n",
       "      <td>2018-03-04 18:24:09</td>\n",
       "      <td>30.24</td>\n",
       "      <td>2343912425577</td>\n",
       "      <td>72</td>\n",
       "      <td>Urban</td>\n",
       "    </tr>\n",
       "    <tr>\n",
       "      <th>2</th>\n",
       "      <td>Port Samanthamouth</td>\n",
       "      <td>2018-02-24 04:29:00</td>\n",
       "      <td>33.44</td>\n",
       "      <td>2005065760003</td>\n",
       "      <td>57</td>\n",
       "      <td>Urban</td>\n",
       "    </tr>\n",
       "    <tr>\n",
       "      <th>3</th>\n",
       "      <td>Rodneyfort</td>\n",
       "      <td>2018-02-10 23:22:03</td>\n",
       "      <td>23.44</td>\n",
       "      <td>5149245426178</td>\n",
       "      <td>34</td>\n",
       "      <td>Urban</td>\n",
       "    </tr>\n",
       "    <tr>\n",
       "      <th>4</th>\n",
       "      <td>South Jack</td>\n",
       "      <td>2018-03-06 04:28:35</td>\n",
       "      <td>34.58</td>\n",
       "      <td>3908451377344</td>\n",
       "      <td>46</td>\n",
       "      <td>Urban</td>\n",
       "    </tr>\n",
       "  </tbody>\n",
       "</table>\n",
       "</div>"
      ],
      "text/plain": [
       "                 city                 date   fare        ride_id  \\\n",
       "0  Lake Jonathanshire  2018-01-14 10:14:22  13.83  5739410935873   \n",
       "1  South Michelleport  2018-03-04 18:24:09  30.24  2343912425577   \n",
       "2  Port Samanthamouth  2018-02-24 04:29:00  33.44  2005065760003   \n",
       "3          Rodneyfort  2018-02-10 23:22:03  23.44  5149245426178   \n",
       "4          South Jack  2018-03-06 04:28:35  34.58  3908451377344   \n",
       "\n",
       "   driver_count   type  \n",
       "0             5  Urban  \n",
       "1            72  Urban  \n",
       "2            57  Urban  \n",
       "3            34  Urban  \n",
       "4            46  Urban  "
      ]
     },
     "execution_count": 2,
     "metadata": {},
     "output_type": "execute_result"
    }
   ],
   "source": [
    "#Merged dataframe\n",
    "combined_df.head()"
   ]
  },
  {
   "cell_type": "code",
   "execution_count": null,
   "metadata": {},
   "outputs": [],
   "source": []
  },
  {
   "cell_type": "code",
   "execution_count": 3,
   "metadata": {},
   "outputs": [
    {
     "data": {
      "text/plain": [
       "city\n",
       "Bradshawfurt         40.064000\n",
       "Garzaport            24.123333\n",
       "Harringtonfort       33.470000\n",
       "Jessicaport          36.013333\n",
       "Lake Jamie           34.358333\n",
       "Lake Latoyabury      26.061818\n",
       "Michaelberg          34.997500\n",
       "New Ryantown         43.278333\n",
       "Newtonview           36.745000\n",
       "North Holly          29.130000\n",
       "North Jaime          30.802500\n",
       "Penaborough          35.246000\n",
       "Randallchester       29.742000\n",
       "South Jennifer       35.264286\n",
       "South Marychester    41.870000\n",
       "South Saramouth      36.160000\n",
       "Taylorhaven          42.263333\n",
       "West Heather         33.890000\n",
       "Name: fare, dtype: float64"
      ]
     },
     "execution_count": 3,
     "metadata": {},
     "output_type": "execute_result"
    }
   ],
   "source": [
    "# filter by Rural type, group by city names and then calculate average fare\n",
    "rural_city_average_fare = combined_df[combined_df[\"type\"] == \"Rural\"].groupby(\"city\")[\"fare\"].mean()\n",
    "rural_city_average_fare"
   ]
  },
  {
   "cell_type": "code",
   "execution_count": null,
   "metadata": {},
   "outputs": [],
   "source": []
  },
  {
   "cell_type": "code",
   "execution_count": 4,
   "metadata": {},
   "outputs": [
    {
     "data": {
      "text/plain": [
       "[40.064,\n",
       " 24.123333333333335,\n",
       " 33.47,\n",
       " 36.01333333333333,\n",
       " 34.358333333333334,\n",
       " 26.061818181818182,\n",
       " 34.99750000000001,\n",
       " 43.278333333333336,\n",
       " 36.745000000000005,\n",
       " 29.130000000000003,\n",
       " 30.802500000000002,\n",
       " 35.246,\n",
       " 29.741999999999997,\n",
       " 35.26428571428572,\n",
       " 41.870000000000005,\n",
       " 36.16,\n",
       " 42.26333333333333,\n",
       " 33.89]"
      ]
     },
     "execution_count": 4,
     "metadata": {},
     "output_type": "execute_result"
    }
   ],
   "source": [
    "# put all of the rural average fare values into a list to use later in plot\n",
    "rural_fares = rural_city_average_fare.tolist()\n",
    "rural_fares"
   ]
  },
  {
   "cell_type": "code",
   "execution_count": 5,
   "metadata": {},
   "outputs": [
    {
     "data": {
      "text/plain": [
       "city\n",
       "Barronchester         36.422500\n",
       "Bethanyland           32.956111\n",
       "Brandonfort           35.437368\n",
       "Colemanland           30.894545\n",
       "Davidfurt             31.995882\n",
       "East Aaronbury        25.661111\n",
       "East Danielview       31.560588\n",
       "East Kentstad         29.823077\n",
       "East Marymouth        30.835185\n",
       "Grayville             27.763333\n",
       "Josephside            32.858148\n",
       "Lake Ann              30.890000\n",
       "Lake Omar             28.075000\n",
       "Lake Robertside       31.262000\n",
       "Lake Scott            31.886111\n",
       "Lewishaven            25.241667\n",
       "Lewisland             34.614118\n",
       "Mezachester           30.760000\n",
       "Myersshire            30.203125\n",
       "New Olivia            34.054118\n",
       "New Raymond           27.961818\n",
       "New Shannonberg       28.378235\n",
       "Nicolechester         30.909474\n",
       "North Jeffrey         29.242308\n",
       "North Richardhaven    24.704286\n",
       "North Timothy         31.262000\n",
       "Port Shane            31.077895\n",
       "Rodriguezview         30.745333\n",
       "Sotoville             31.980000\n",
       "South Brenda          33.964583\n",
       "South Teresa          31.220455\n",
       "Veronicaberg          32.828235\n",
       "Victoriaport          27.780000\n",
       "West Hannah           29.547619\n",
       "West Kimmouth         29.871500\n",
       "Williamsonville       31.875000\n",
       "Name: fare, dtype: float64"
      ]
     },
     "execution_count": 5,
     "metadata": {},
     "output_type": "execute_result"
    }
   ],
   "source": [
    "# filter by Suburban type, group by city names and then calculate average fare\n",
    "suburban_city_average_fare = combined_df[combined_df[\"type\"] == \"Suburban\"].groupby(\"city\")[\"fare\"].mean()\n",
    "suburban_city_average_fare"
   ]
  },
  {
   "cell_type": "code",
   "execution_count": 6,
   "metadata": {},
   "outputs": [
    {
     "data": {
      "text/plain": [
       "[36.42249999999999,\n",
       " 32.95611111111112,\n",
       " 35.43736842105263,\n",
       " 30.89454545454545,\n",
       " 31.99588235294118,\n",
       " 25.66111111111111,\n",
       " 31.560588235294116,\n",
       " 29.82307692307692,\n",
       " 30.835185185185182,\n",
       " 27.76333333333333,\n",
       " 32.85814814814815,\n",
       " 30.89,\n",
       " 28.074999999999996,\n",
       " 31.261999999999997,\n",
       " 31.886111111111113,\n",
       " 25.241666666666664,\n",
       " 34.61411764705882,\n",
       " 30.759999999999998,\n",
       " 30.203125,\n",
       " 34.054117647058824,\n",
       " 27.96181818181818,\n",
       " 28.37823529411765,\n",
       " 30.909473684210518,\n",
       " 29.242307692307698,\n",
       " 24.70428571428571,\n",
       " 31.262000000000004,\n",
       " 31.077894736842108,\n",
       " 30.745333333333335,\n",
       " 31.979999999999997,\n",
       " 33.96458333333334,\n",
       " 31.22045454545454,\n",
       " 32.82823529411765,\n",
       " 27.780000000000005,\n",
       " 29.547619047619055,\n",
       " 29.871500000000005,\n",
       " 31.874999999999996]"
      ]
     },
     "execution_count": 6,
     "metadata": {},
     "output_type": "execute_result"
    }
   ],
   "source": [
    "# put all of the suburban average fare values into a list to use later in plot\n",
    "suburban_fares = suburban_city_average_fare.tolist()\n",
    "suburban_fares"
   ]
  },
  {
   "cell_type": "code",
   "execution_count": 7,
   "metadata": {},
   "outputs": [
    {
     "data": {
      "text/plain": [
       "city\n",
       "Amandaburgh             24.641667\n",
       "Barajasview             25.332273\n",
       "Carriemouth             28.314444\n",
       "Christopherfurt         24.501852\n",
       "Deanville               25.842632\n",
       "East Kaylahaven         23.757931\n",
       "Erikaland               24.906667\n",
       "Grahamburgh             25.221200\n",
       "Huntermouth             28.993750\n",
       "Hurleymouth             25.891429\n",
       "Jerryton                25.649200\n",
       "Johnton                 26.785714\n",
       "Joneschester            22.289600\n",
       "Justinberg              23.694333\n",
       "Karenberg               26.340000\n",
       "Karenside               27.453571\n",
       "Lake Danielberg         24.844231\n",
       "Lake Jonathanshire      23.425833\n",
       "Lake Scottton           23.809167\n",
       "Leahton                 21.243810\n",
       "Liumouth                26.150000\n",
       "Loganberg               25.292500\n",
       "Martinezhaven           22.651250\n",
       "New Jacobville          26.765556\n",
       "New Kimberlyborough     22.589000\n",
       "New Paulton             27.820000\n",
       "New Paulville           21.675909\n",
       "North Barbara           23.494091\n",
       "North Jasmine           25.205333\n",
       "North Jason             22.743714\n",
       "                          ...    \n",
       "Port Johnbury           23.006364\n",
       "Port Samanthamouth      25.642800\n",
       "Raymondhaven            21.480400\n",
       "Reynoldsfurt            21.919474\n",
       "Richardfort             22.373214\n",
       "Roberthaven             23.729167\n",
       "Robertport              23.060500\n",
       "Rodneyfort              28.616957\n",
       "Rogerston               22.097727\n",
       "Royland                 20.570667\n",
       "Simpsonburgh            23.355833\n",
       "South Evanton           26.726129\n",
       "South Jack              22.965263\n",
       "South Karenland         26.535526\n",
       "South Latoya            20.093158\n",
       "South Michelleport      24.451613\n",
       "South Phillip           28.571290\n",
       "Valentineton            24.636364\n",
       "West Angela             25.990000\n",
       "West Anthony            24.736667\n",
       "West Christopherberg    24.421154\n",
       "West Ericstad           22.347222\n",
       "West Gabriel            20.346087\n",
       "West Heidi              23.133929\n",
       "West Josephberg         21.720385\n",
       "West Patrickchester     28.233125\n",
       "West Robert             25.123871\n",
       "West Samuelburgh        21.767600\n",
       "Williamsstad            24.362174\n",
       "Williamsview            26.599000\n",
       "Name: fare, Length: 66, dtype: float64"
      ]
     },
     "execution_count": 7,
     "metadata": {},
     "output_type": "execute_result"
    }
   ],
   "source": [
    "# filter by Urban type, group by city names and then calculate average fare\n",
    "urban_city_average_fare = combined_df[combined_df[\"type\"] == \"Urban\"].groupby(\"city\")[\"fare\"].mean()\n",
    "urban_city_average_fare"
   ]
  },
  {
   "cell_type": "code",
   "execution_count": 8,
   "metadata": {},
   "outputs": [
    {
     "data": {
      "text/plain": [
       "[24.641666666666666,\n",
       " 25.332272727272724,\n",
       " 28.314444444444437,\n",
       " 24.50185185185185,\n",
       " 25.842631578947366,\n",
       " 23.75793103448276,\n",
       " 24.906666666666666,\n",
       " 25.2212,\n",
       " 28.993749999999995,\n",
       " 25.89142857142857,\n",
       " 25.649200000000004,\n",
       " 26.78571428571428,\n",
       " 22.2896,\n",
       " 23.694333333333322,\n",
       " 26.340000000000003,\n",
       " 27.453571428571433,\n",
       " 24.84423076923077,\n",
       " 23.425833333333333,\n",
       " 23.809166666666666,\n",
       " 21.243809523809524,\n",
       " 26.149999999999995,\n",
       " 25.2925,\n",
       " 22.65125,\n",
       " 26.765555555555558,\n",
       " 22.589000000000002,\n",
       " 27.820000000000004,\n",
       " 21.67590909090909,\n",
       " 23.49409090909091,\n",
       " 25.20533333333333,\n",
       " 22.743714285714287,\n",
       " 22.623599999999996,\n",
       " 27.504285714285718,\n",
       " 23.98047619047619,\n",
       " 23.836842105263155,\n",
       " 25.854999999999997,\n",
       " 27.201515151515153,\n",
       " 23.006363636363638,\n",
       " 25.64280000000001,\n",
       " 21.4804,\n",
       " 21.919473684210526,\n",
       " 22.373214285714287,\n",
       " 23.72916666666666,\n",
       " 23.0605,\n",
       " 28.616956521739127,\n",
       " 22.097727272727273,\n",
       " 20.570666666666668,\n",
       " 23.355833333333337,\n",
       " 26.72612903225806,\n",
       " 22.965263157894736,\n",
       " 26.535526315789475,\n",
       " 20.093157894736848,\n",
       " 24.451612903225808,\n",
       " 28.57129032258064,\n",
       " 24.636363636363637,\n",
       " 25.990000000000002,\n",
       " 24.736666666666665,\n",
       " 24.421153846153842,\n",
       " 22.34722222222222,\n",
       " 20.34608695652174,\n",
       " 23.133928571428573,\n",
       " 21.72038461538461,\n",
       " 28.233124999999994,\n",
       " 25.123870967741937,\n",
       " 21.7676,\n",
       " 24.36217391304348,\n",
       " 26.599]"
      ]
     },
     "execution_count": 8,
     "metadata": {},
     "output_type": "execute_result"
    }
   ],
   "source": [
    "# put all of the urban average fare values into a list to use later in plot\n",
    "urban_fares = urban_city_average_fare.tolist()\n",
    "urban_fares"
   ]
  },
  {
   "cell_type": "code",
   "execution_count": null,
   "metadata": {},
   "outputs": [],
   "source": []
  },
  {
   "cell_type": "code",
   "execution_count": 9,
   "metadata": {},
   "outputs": [
    {
     "data": {
      "text/plain": [
       "city\n",
       "Bradshawfurt         10\n",
       "Garzaport             3\n",
       "Harringtonfort        6\n",
       "Jessicaport           6\n",
       "Lake Jamie            6\n",
       "Lake Latoyabury      11\n",
       "Michaelberg          12\n",
       "New Ryantown          6\n",
       "Newtonview            4\n",
       "North Holly           9\n",
       "North Jaime           8\n",
       "Penaborough           5\n",
       "Randallchester        5\n",
       "South Jennifer        7\n",
       "South Marychester     8\n",
       "South Saramouth       4\n",
       "Taylorhaven           6\n",
       "West Heather          9\n",
       "Name: ride_id, dtype: int64"
      ]
     },
     "execution_count": 9,
     "metadata": {},
     "output_type": "execute_result"
    }
   ],
   "source": [
    "# filter by Rural type, group by city names and then calculate total number of rides\n",
    "rural_city_ride_count = combined_df[combined_df[\"type\"] == \"Rural\"].groupby(\"city\")[\"ride_id\"].count()\n",
    "rural_city_ride_count"
   ]
  },
  {
   "cell_type": "code",
   "execution_count": null,
   "metadata": {},
   "outputs": [],
   "source": []
  },
  {
   "cell_type": "code",
   "execution_count": null,
   "metadata": {},
   "outputs": [],
   "source": []
  },
  {
   "cell_type": "code",
   "execution_count": 10,
   "metadata": {},
   "outputs": [
    {
     "data": {
      "text/plain": [
       "[10, 3, 6, 6, 6, 11, 12, 6, 4, 9, 8, 5, 5, 7, 8, 4, 6, 9]"
      ]
     },
     "execution_count": 10,
     "metadata": {},
     "output_type": "execute_result"
    }
   ],
   "source": [
    "# put all of the rural ride count values into a list to use later in plot\n",
    "rural_city_rides = rural_city_ride_count.tolist()\n",
    "rural_city_rides"
   ]
  },
  {
   "cell_type": "code",
   "execution_count": 11,
   "metadata": {},
   "outputs": [
    {
     "data": {
      "text/plain": [
       "city\n",
       "Barronchester         16\n",
       "Bethanyland           18\n",
       "Brandonfort           19\n",
       "Colemanland           22\n",
       "Davidfurt             17\n",
       "East Aaronbury         9\n",
       "East Danielview       17\n",
       "East Kentstad         13\n",
       "East Marymouth        27\n",
       "Grayville             15\n",
       "Josephside            27\n",
       "Lake Ann              12\n",
       "Lake Omar             14\n",
       "Lake Robertside       25\n",
       "Lake Scott            18\n",
       "Lewishaven            12\n",
       "Lewisland             17\n",
       "Mezachester           17\n",
       "Myersshire            16\n",
       "New Olivia            17\n",
       "New Raymond           22\n",
       "New Shannonberg       17\n",
       "Nicolechester         19\n",
       "North Jeffrey         13\n",
       "North Richardhaven    14\n",
       "North Timothy         15\n",
       "Port Shane            19\n",
       "Rodriguezview         15\n",
       "Sotoville             11\n",
       "South Brenda          24\n",
       "South Teresa          22\n",
       "Veronicaberg          17\n",
       "Victoriaport          14\n",
       "West Hannah           21\n",
       "West Kimmouth         20\n",
       "Williamsonville       14\n",
       "Name: ride_id, dtype: int64"
      ]
     },
     "execution_count": 11,
     "metadata": {},
     "output_type": "execute_result"
    }
   ],
   "source": [
    "# filter by Suburban type, group by city names and then calculate total number of rides\n",
    "suburban_city_ride_count = combined_df[combined_df[\"type\"] == \"Suburban\"].groupby(\"city\")[\"ride_id\"].count()\n",
    "suburban_city_ride_count"
   ]
  },
  {
   "cell_type": "code",
   "execution_count": 12,
   "metadata": {},
   "outputs": [
    {
     "data": {
      "text/plain": [
       "[16,\n",
       " 18,\n",
       " 19,\n",
       " 22,\n",
       " 17,\n",
       " 9,\n",
       " 17,\n",
       " 13,\n",
       " 27,\n",
       " 15,\n",
       " 27,\n",
       " 12,\n",
       " 14,\n",
       " 25,\n",
       " 18,\n",
       " 12,\n",
       " 17,\n",
       " 17,\n",
       " 16,\n",
       " 17,\n",
       " 22,\n",
       " 17,\n",
       " 19,\n",
       " 13,\n",
       " 14,\n",
       " 15,\n",
       " 19,\n",
       " 15,\n",
       " 11,\n",
       " 24,\n",
       " 22,\n",
       " 17,\n",
       " 14,\n",
       " 21,\n",
       " 20,\n",
       " 14]"
      ]
     },
     "execution_count": 12,
     "metadata": {},
     "output_type": "execute_result"
    }
   ],
   "source": [
    "# put all of the suburban ride count values into a list to use later in plot\n",
    "suburban_city_rides = suburban_city_ride_count.tolist()\n",
    "suburban_city_rides"
   ]
  },
  {
   "cell_type": "code",
   "execution_count": null,
   "metadata": {},
   "outputs": [],
   "source": []
  },
  {
   "cell_type": "code",
   "execution_count": 13,
   "metadata": {},
   "outputs": [
    {
     "data": {
      "text/plain": [
       "city\n",
       "Amandaburgh             18\n",
       "Barajasview             22\n",
       "Carriemouth             27\n",
       "Christopherfurt         27\n",
       "Deanville               19\n",
       "East Kaylahaven         29\n",
       "Erikaland               12\n",
       "Grahamburgh             25\n",
       "Huntermouth             24\n",
       "Hurleymouth             28\n",
       "Jerryton                25\n",
       "Johnton                 21\n",
       "Joneschester            25\n",
       "Justinberg              30\n",
       "Karenberg               17\n",
       "Karenside               28\n",
       "Lake Danielberg         26\n",
       "Lake Jonathanshire      24\n",
       "Lake Scottton           24\n",
       "Leahton                 21\n",
       "Liumouth                33\n",
       "Loganberg               28\n",
       "Martinezhaven           24\n",
       "New Jacobville          18\n",
       "New Kimberlyborough     30\n",
       "New Paulton             19\n",
       "New Paulville           22\n",
       "North Barbara           22\n",
       "North Jasmine           30\n",
       "North Jason             35\n",
       "                        ..\n",
       "Port Johnbury           22\n",
       "Port Samanthamouth      25\n",
       "Raymondhaven            25\n",
       "Reynoldsfurt            19\n",
       "Richardfort             28\n",
       "Roberthaven             24\n",
       "Robertport              20\n",
       "Rodneyfort              23\n",
       "Rogerston               22\n",
       "Royland                 30\n",
       "Simpsonburgh            24\n",
       "South Evanton           31\n",
       "South Jack              19\n",
       "South Karenland         38\n",
       "South Latoya            19\n",
       "South Michelleport      31\n",
       "South Phillip           31\n",
       "Valentineton            22\n",
       "West Angela             39\n",
       "West Anthony            30\n",
       "West Christopherberg    26\n",
       "West Ericstad           18\n",
       "West Gabriel            23\n",
       "West Heidi              28\n",
       "West Josephberg         26\n",
       "West Patrickchester     16\n",
       "West Robert             31\n",
       "West Samuelburgh        25\n",
       "Williamsstad            23\n",
       "Williamsview            20\n",
       "Name: ride_id, Length: 66, dtype: int64"
      ]
     },
     "execution_count": 13,
     "metadata": {},
     "output_type": "execute_result"
    }
   ],
   "source": [
    "# filter by urban type, group by city names and then calculate total number of rides\n",
    "urban_city_ride_count = combined_df[combined_df[\"type\"] == \"Urban\"].groupby(\"city\")[\"ride_id\"].count()\n",
    "urban_city_ride_count"
   ]
  },
  {
   "cell_type": "code",
   "execution_count": 14,
   "metadata": {},
   "outputs": [
    {
     "data": {
      "text/plain": [
       "[18,\n",
       " 22,\n",
       " 27,\n",
       " 27,\n",
       " 19,\n",
       " 29,\n",
       " 12,\n",
       " 25,\n",
       " 24,\n",
       " 28,\n",
       " 25,\n",
       " 21,\n",
       " 25,\n",
       " 30,\n",
       " 17,\n",
       " 28,\n",
       " 26,\n",
       " 24,\n",
       " 24,\n",
       " 21,\n",
       " 33,\n",
       " 28,\n",
       " 24,\n",
       " 18,\n",
       " 30,\n",
       " 19,\n",
       " 22,\n",
       " 22,\n",
       " 30,\n",
       " 35,\n",
       " 25,\n",
       " 14,\n",
       " 21,\n",
       " 19,\n",
       " 22,\n",
       " 33,\n",
       " 22,\n",
       " 25,\n",
       " 25,\n",
       " 19,\n",
       " 28,\n",
       " 24,\n",
       " 20,\n",
       " 23,\n",
       " 22,\n",
       " 30,\n",
       " 24,\n",
       " 31,\n",
       " 19,\n",
       " 38,\n",
       " 19,\n",
       " 31,\n",
       " 31,\n",
       " 22,\n",
       " 39,\n",
       " 30,\n",
       " 26,\n",
       " 18,\n",
       " 23,\n",
       " 28,\n",
       " 26,\n",
       " 16,\n",
       " 31,\n",
       " 25,\n",
       " 23,\n",
       " 20]"
      ]
     },
     "execution_count": 14,
     "metadata": {},
     "output_type": "execute_result"
    }
   ],
   "source": [
    "# put all of the urban ride count values into a list to use later in plot\n",
    "urban_city_rides = urban_city_ride_count.tolist()\n",
    "urban_city_rides"
   ]
  },
  {
   "cell_type": "code",
   "execution_count": null,
   "metadata": {},
   "outputs": [],
   "source": []
  },
  {
   "cell_type": "code",
   "execution_count": 15,
   "metadata": {},
   "outputs": [
    {
     "data": {
      "text/plain": [
       "city\n",
       "Bradshawfurt         [7]\n",
       "Garzaport            [7]\n",
       "Harringtonfort       [4]\n",
       "Jessicaport          [1]\n",
       "Lake Jamie           [4]\n",
       "Lake Latoyabury      [2]\n",
       "Michaelberg          [6]\n",
       "New Ryantown         [2]\n",
       "Newtonview           [1]\n",
       "North Holly          [8]\n",
       "North Jaime          [1]\n",
       "Penaborough          [6]\n",
       "Randallchester       [9]\n",
       "South Jennifer       [7]\n",
       "South Marychester    [1]\n",
       "South Saramouth      [7]\n",
       "Taylorhaven          [1]\n",
       "West Heather         [4]\n",
       "Name: driver_count, dtype: object"
      ]
     },
     "execution_count": 15,
     "metadata": {},
     "output_type": "execute_result"
    }
   ],
   "source": [
    "# circle size correlates with driver count per city so get rural driver count per city\n",
    "rural_driver_count_city = combined_df[combined_df[\"type\"] == \"Rural\"].groupby(\"city\")[\"driver_count\"].unique()\n",
    "rural_driver_count_city"
   ]
  },
  {
   "cell_type": "code",
   "execution_count": 16,
   "metadata": {},
   "outputs": [
    {
     "data": {
      "text/plain": [
       "[7, 7, 4, 1, 4, 2, 6, 2, 1, 8, 1, 6, 9, 7, 1, 7, 1, 4]"
      ]
     },
     "execution_count": 16,
     "metadata": {},
     "output_type": "execute_result"
    }
   ],
   "source": [
    "# create a new list for rural driver count by city\n",
    "new_rural_driver_count = []\n",
    "for item in rural_driver_count_city:\n",
    "    new_rural_driver_count.append(item[0])\n",
    "new_rural_driver_count"
   ]
  },
  {
   "cell_type": "code",
   "execution_count": null,
   "metadata": {},
   "outputs": [],
   "source": []
  },
  {
   "cell_type": "code",
   "execution_count": null,
   "metadata": {},
   "outputs": [],
   "source": []
  },
  {
   "cell_type": "code",
   "execution_count": null,
   "metadata": {},
   "outputs": [],
   "source": []
  },
  {
   "cell_type": "code",
   "execution_count": 17,
   "metadata": {},
   "outputs": [
    {
     "data": {
      "text/plain": [
       "city\n",
       "Barronchester         [11]\n",
       "Bethanyland           [22]\n",
       "Brandonfort           [10]\n",
       "Colemanland           [23]\n",
       "Davidfurt             [23]\n",
       "East Aaronbury         [7]\n",
       "East Danielview       [22]\n",
       "East Kentstad         [20]\n",
       "East Marymouth         [5]\n",
       "Grayville              [2]\n",
       "Josephside            [25]\n",
       "Lake Ann               [3]\n",
       "Lake Omar             [22]\n",
       "Lake Robertside        [4]\n",
       "Lake Scott            [23]\n",
       "Lewishaven            [23]\n",
       "Lewisland              [4]\n",
       "Mezachester           [14]\n",
       "Myersshire            [19]\n",
       "New Olivia            [20]\n",
       "New Raymond           [17]\n",
       "New Shannonberg       [20]\n",
       "Nicolechester         [19]\n",
       "North Jeffrey         [11]\n",
       "North Richardhaven     [1]\n",
       "North Timothy          [7]\n",
       "Port Shane             [7]\n",
       "Rodriguezview         [20]\n",
       "Sotoville             [10]\n",
       "South Brenda           [1]\n",
       "South Teresa          [21]\n",
       "Veronicaberg          [20]\n",
       "Victoriaport          [16]\n",
       "West Hannah           [12]\n",
       "West Kimmouth          [4]\n",
       "Williamsonville        [2]\n",
       "Name: driver_count, dtype: object"
      ]
     },
     "execution_count": 17,
     "metadata": {},
     "output_type": "execute_result"
    }
   ],
   "source": [
    "# circle size correlates with driver count per city so get suburban driver count per city\n",
    "suburban_driver_count_city = combined_df[combined_df[\"type\"] == \"Suburban\"].groupby(\"city\")[\"driver_count\"].unique()\n",
    "suburban_driver_count_city"
   ]
  },
  {
   "cell_type": "code",
   "execution_count": 18,
   "metadata": {},
   "outputs": [
    {
     "data": {
      "text/plain": [
       "[11,\n",
       " 22,\n",
       " 10,\n",
       " 23,\n",
       " 23,\n",
       " 7,\n",
       " 22,\n",
       " 20,\n",
       " 5,\n",
       " 2,\n",
       " 25,\n",
       " 3,\n",
       " 22,\n",
       " 4,\n",
       " 23,\n",
       " 23,\n",
       " 4,\n",
       " 14,\n",
       " 19,\n",
       " 20,\n",
       " 17,\n",
       " 20,\n",
       " 19,\n",
       " 11,\n",
       " 1,\n",
       " 7,\n",
       " 7,\n",
       " 20,\n",
       " 10,\n",
       " 1,\n",
       " 21,\n",
       " 20,\n",
       " 16,\n",
       " 12,\n",
       " 4,\n",
       " 2]"
      ]
     },
     "execution_count": 18,
     "metadata": {},
     "output_type": "execute_result"
    }
   ],
   "source": [
    "# create a new list for suburban driver count by city\n",
    "new_suburban_driver_count = []\n",
    "for item in suburban_driver_count_city:\n",
    "    new_suburban_driver_count.append(item[0])\n",
    "new_suburban_driver_count"
   ]
  },
  {
   "cell_type": "code",
   "execution_count": null,
   "metadata": {},
   "outputs": [],
   "source": []
  },
  {
   "cell_type": "code",
   "execution_count": null,
   "metadata": {},
   "outputs": [],
   "source": []
  },
  {
   "cell_type": "code",
   "execution_count": 19,
   "metadata": {},
   "outputs": [
    {
     "data": {
      "text/plain": [
       "city\n",
       "Amandaburgh             [12]\n",
       "Barajasview             [26]\n",
       "Carriemouth             [52]\n",
       "Christopherfurt         [41]\n",
       "Deanville               [49]\n",
       "East Kaylahaven         [65]\n",
       "Erikaland               [37]\n",
       "Grahamburgh             [61]\n",
       "Huntermouth             [37]\n",
       "Hurleymouth             [36]\n",
       "Jerryton                [64]\n",
       "Johnton                 [27]\n",
       "Joneschester            [39]\n",
       "Justinberg              [39]\n",
       "Karenberg               [22]\n",
       "Karenside                [5]\n",
       "Lake Danielberg         [19]\n",
       "Lake Jonathanshire       [5]\n",
       "Lake Scottton           [58]\n",
       "Leahton                 [17]\n",
       "Liumouth                [69]\n",
       "Loganberg               [23]\n",
       "Martinezhaven           [25]\n",
       "New Jacobville          [50]\n",
       "New Kimberlyborough     [33]\n",
       "New Paulton             [44]\n",
       "New Paulville           [44]\n",
       "North Barbara           [18]\n",
       "North Jasmine           [33]\n",
       "North Jason              [6]\n",
       "                        ... \n",
       "Port Johnbury            [3]\n",
       "Port Samanthamouth      [57]\n",
       "Raymondhaven            [11]\n",
       "Reynoldsfurt            [67]\n",
       "Richardfort             [38]\n",
       "Roberthaven             [47]\n",
       "Robertport              [12]\n",
       "Rodneyfort              [34]\n",
       "Rogerston               [25]\n",
       "Royland                 [64]\n",
       "Simpsonburgh            [21]\n",
       "South Evanton           [11]\n",
       "South Jack              [46]\n",
       "South Karenland          [4]\n",
       "South Latoya            [10]\n",
       "South Michelleport      [72]\n",
       "South Phillip           [38]\n",
       "Valentineton            [45]\n",
       "West Angela             [48]\n",
       "West Anthony            [70]\n",
       "West Christopherberg    [32]\n",
       "West Ericstad           [25]\n",
       "West Gabriel            [57]\n",
       "West Heidi              [28]\n",
       "West Josephberg         [45]\n",
       "West Patrickchester     [25]\n",
       "West Robert             [39]\n",
       "West Samuelburgh        [73]\n",
       "Williamsstad            [59]\n",
       "Williamsview            [46]\n",
       "Name: driver_count, Length: 66, dtype: object"
      ]
     },
     "execution_count": 19,
     "metadata": {},
     "output_type": "execute_result"
    }
   ],
   "source": [
    "# circle size correlates with driver count per city so get urban driver count per city\n",
    "urban_driver_count_city = combined_df[combined_df[\"type\"] == \"Urban\"].groupby(\"city\")[\"driver_count\"].unique()\n",
    "urban_driver_count_city"
   ]
  },
  {
   "cell_type": "code",
   "execution_count": 20,
   "metadata": {},
   "outputs": [
    {
     "data": {
      "text/plain": [
       "[12,\n",
       " 26,\n",
       " 52,\n",
       " 41,\n",
       " 49,\n",
       " 65,\n",
       " 37,\n",
       " 61,\n",
       " 37,\n",
       " 36,\n",
       " 64,\n",
       " 27,\n",
       " 39,\n",
       " 39,\n",
       " 22,\n",
       " 5,\n",
       " 19,\n",
       " 5,\n",
       " 58,\n",
       " 17,\n",
       " 69,\n",
       " 23,\n",
       " 25,\n",
       " 50,\n",
       " 33,\n",
       " 44,\n",
       " 44,\n",
       " 18,\n",
       " 33,\n",
       " 6,\n",
       " 19,\n",
       " 22,\n",
       " 59,\n",
       " 67,\n",
       " 7,\n",
       " 23,\n",
       " 3,\n",
       " 57,\n",
       " 11,\n",
       " 67,\n",
       " 38,\n",
       " 47,\n",
       " 12,\n",
       " 34,\n",
       " 25,\n",
       " 64,\n",
       " 21,\n",
       " 11,\n",
       " 46,\n",
       " 4,\n",
       " 10,\n",
       " 72,\n",
       " 38,\n",
       " 45,\n",
       " 48,\n",
       " 70,\n",
       " 32,\n",
       " 25,\n",
       " 57,\n",
       " 28,\n",
       " 45,\n",
       " 25,\n",
       " 39,\n",
       " 73,\n",
       " 59,\n",
       " 46]"
      ]
     },
     "execution_count": 20,
     "metadata": {},
     "output_type": "execute_result"
    }
   ],
   "source": [
    "# create a new list for urban driver count by city\n",
    "new_urban_driver_count = []\n",
    "for item in urban_driver_count_city:\n",
    "    new_urban_driver_count.append(item[0])\n",
    "new_urban_driver_count"
   ]
  },
  {
   "cell_type": "code",
   "execution_count": null,
   "metadata": {},
   "outputs": [],
   "source": []
  },
  {
   "cell_type": "code",
   "execution_count": 21,
   "metadata": {},
   "outputs": [],
   "source": [
    "# try to make size of circles bigger by multiplying the values of each driver_count list by 10\n",
    "\n",
    "scale_new_rural_driver_count = [i * 10 for i in new_rural_driver_count]\n",
    "scale_new_suburban_driver_count = [i * 10 for i in new_suburban_driver_count]\n",
    "scale_new_urban_driver_count = [i * 10 for i in new_urban_driver_count]"
   ]
  },
  {
   "cell_type": "code",
   "execution_count": 23,
   "metadata": {},
   "outputs": [
    {
     "data": {
      "image/png": "[encoded data removed]",
      "text/plain": [
       "<Figure size 432x288 with 1 Axes>"
      ]
     },
     "metadata": {},
     "output_type": "display_data"
    }
   ],
   "source": [
    "# Build the scatter plots for each city types\n",
    "\n",
    "# so now x-axis for the three different scatter plots should be rural_city_rides, suburban_city_rides, and urban_city_rides\n",
    "# y-axis for the three differnent scatter plots should be rural_fares, suburban_fares, and urban_fares\n",
    "# s (size) for the three different scatter plots should be scale_new_rural_driver_count, scale_new_suburban_driver_count, and scale_new_urban_driver_count\n",
    "\n",
    "#label for x-axis\n",
    "plt.xlabel(\"Total Number of Rides (Per City)\")\n",
    "#label for y-axis\n",
    "plt.ylabel(\"Average Fare ($)\")\n",
    "\n",
    "#create handles for legend and add marker, color, label, edgecolors, alpha and linewidths\n",
    "rural =plt.scatter(rural_city_rides, rural_fares, s=scale_new_rural_driver_count, marker=\"o\",color=\"gold\", label=\"Rural\", edgecolors=\"black\", alpha=0.8, linewidths=1)\n",
    "urban =plt.scatter(urban_city_rides, urban_fares, s=scale_new_urban_driver_count, marker=\"o\",color=\"lightcoral\", label=\"Urban\", edgecolors=\"black\", alpha=0.8, linewidths=1)\n",
    "suburban =plt.scatter(suburban_city_rides, suburban_fares, s=scale_new_suburban_driver_count, marker=\"o\",color=\"lightskyblue\", label=\"Suburban\", edgecolors=\"black\", alpha=0.8, linewidths=1)\n",
    "# add title to legend and location\n",
    "lgnd = plt.legend(handles = [urban, suburban, rural], loc=\"upper right\", title=\"City Types\")\n",
    "#change the circle size in legend for all three city types to be same size\n",
    "lgnd.legendHandles[0]._sizes = [30.0]\n",
    "lgnd.legendHandles[1]._sizes = [30.0]\n",
    "lgnd.legendHandles[2]._sizes = [30.0]\n",
    "\n",
    "# make title\n",
    "plt.title(\"Pyber Ride Sharing Data (2016)\")\n",
    "\n",
    "# Set a grid on the plot\n",
    "plt.grid()\n",
    "\n",
    "# Incorporate a text label regarding circle size\n",
    "textstr = 'Note:\\nCircle size correlates with driver count per city'\n",
    "# x-axis location is about 43 and y-axis location is about 35 to put the text label\n",
    "plt.text(43,35, textstr)\n",
    "\n",
    "# Save Figure\n",
    "plt.savefig(\"Images/Pyber_Ride_Sharing_Bubble_Plot.png\")\n",
    "\n",
    "plt.show()"
   ]
  },
  {
   "cell_type": "code",
   "execution_count": null,
   "metadata": {},
   "outputs": [],
   "source": []
  },
  {
   "cell_type": "code",
   "execution_count": null,
   "metadata": {},
   "outputs": [],
   "source": []
  },
  {
   "cell_type": "code",
   "execution_count": 3,
   "metadata": {},
   "outputs": [
    {
     "data": {
      "image/png": "[encoded data removed]",
      "text/plain": [
       "<Figure size 432x288 with 1 Axes>"
      ]
     },
     "metadata": {},
     "output_type": "display_data"
    }
   ],
   "source": [
    "# Show plot\n",
    "plt.show()"
   ]
  },
  {
   "cell_type": "markdown",
   "metadata": {},
   "source": [
    "## Total Fares by City Type"
   ]
  },
  {
   "cell_type": "code",
   "execution_count": 24,
   "metadata": {},
   "outputs": [],
   "source": [
    "# Calculate Type Percents"
   ]
  },
  {
   "cell_type": "code",
   "execution_count": 31,
   "metadata": {},
   "outputs": [
    {
     "data": {
      "text/plain": [
       "type\n",
       "Rural        4327.93\n",
       "Suburban    19356.33\n",
       "Urban       39854.38\n",
       "Name: fare, dtype: float64"
      ]
     },
     "execution_count": 31,
     "metadata": {},
     "output_type": "execute_result"
    }
   ],
   "source": [
    "# group by city type and then add up the total amount of fares by type (rural, suburban, and urban)\n",
    "city_type_fares_group = combined_df.groupby(\"type\")\n",
    "city_type_fares_total = city_type_fares_group['fare'].sum()\n",
    "city_type_fares_total"
   ]
  },
  {
   "cell_type": "code",
   "execution_count": 32,
   "metadata": {},
   "outputs": [
    {
     "name": "stdout",
     "output_type": "stream",
     "text": [
      "type\n",
      "Rural    4327.93\n",
      "Name: fare, dtype: float64\n",
      "****\n",
      "4327.930000000002\n"
     ]
    },
    {
     "data": {
      "text/plain": [
       "numpy.float64"
      ]
     },
     "execution_count": 32,
     "metadata": {},
     "output_type": "execute_result"
    }
   ],
   "source": [
    "# calculate fare total for rural and assign to float value\n",
    "rural_fares = city_type_fares_total.iloc[0:1]\n",
    "print(rural_fares)\n",
    "print(\"****\")\n",
    "rural_fares_value = rural_fares.sum()\n",
    "print(rural_fares_value)\n",
    "type(rural_fares_value)"
   ]
  },
  {
   "cell_type": "code",
   "execution_count": 33,
   "metadata": {},
   "outputs": [
    {
     "name": "stdout",
     "output_type": "stream",
     "text": [
      "type\n",
      "Suburban    19356.33\n",
      "Name: fare, dtype: float64\n",
      "****\n",
      "19356.330000000013\n"
     ]
    },
    {
     "data": {
      "text/plain": [
       "numpy.float64"
      ]
     },
     "execution_count": 33,
     "metadata": {},
     "output_type": "execute_result"
    }
   ],
   "source": [
    "# calculate fare total for suburban and assign to float value\n",
    "suburban_fares = city_type_fares_total.iloc[1:2]\n",
    "print(suburban_fares)\n",
    "print(\"****\")\n",
    "suburban_fares_value = suburban_fares.sum()\n",
    "print(suburban_fares_value)\n",
    "type(suburban_fares_value)"
   ]
  },
  {
   "cell_type": "code",
   "execution_count": 34,
   "metadata": {},
   "outputs": [
    {
     "name": "stdout",
     "output_type": "stream",
     "text": [
      "type\n",
      "Urban    39854.38\n",
      "Name: fare, dtype: float64\n",
      "****\n",
      "39854.380000000085\n"
     ]
    },
    {
     "data": {
      "text/plain": [
       "numpy.float64"
      ]
     },
     "execution_count": 34,
     "metadata": {},
     "output_type": "execute_result"
    }
   ],
   "source": [
    "# calculate fare total for urban and assign to float value\n",
    "urban_fares = city_type_fares_total.iloc[2:3]\n",
    "print(urban_fares)\n",
    "print(\"****\")\n",
    "urban_fares_value = urban_fares.sum()\n",
    "print(urban_fares_value)\n",
    "type(urban_fares_value)"
   ]
  },
  {
   "cell_type": "code",
   "execution_count": 35,
   "metadata": {},
   "outputs": [
    {
     "data": {
      "image/png": "[encoded data removed]",
      "text/plain": [
       "<Figure size 432x288 with 1 Axes>"
      ]
     },
     "metadata": {},
     "output_type": "display_data"
    }
   ],
   "source": [
    "# Build Pie Chart\n",
    "fares_city_types = [\"Rural\", \"Suburban\", \"Urban\"]\n",
    "fares_city_types_values = [rural_fares_value,suburban_fares_value,urban_fares_value]\n",
    "colors = [\"gold\",\"lightskyblue\",\"lightcoral\"]\n",
    "explode = (0,0,0.1)\n",
    "\n",
    "# Title\n",
    "plt.title('% of Total Fares by City Type')\n",
    "\n",
    "# Tell matplotlib to create a pie chart based upon the above data\n",
    "plt.pie(fares_city_types_values, explode=explode, labels=fares_city_types, colors=colors,\n",
    "        autopct=\"%1.1f%%\", shadow=True, startangle=140)\n",
    "\n",
    "# Save Figure\n",
    "plt.savefig(\"Images/Pyber_Fares_City_Type.png\")"
   ]
  },
  {
   "cell_type": "code",
   "execution_count": null,
   "metadata": {},
   "outputs": [],
   "source": []
  },
  {
   "cell_type": "code",
   "execution_count": null,
   "metadata": {},
   "outputs": [],
   "source": []
  },
  {
   "cell_type": "code",
   "execution_count": null,
   "metadata": {},
   "outputs": [],
   "source": []
  },
  {
   "cell_type": "code",
   "execution_count": 4,
   "metadata": {},
   "outputs": [
    {
     "data": {
      "image/png": "[encoded data removed]",
      "text/plain": [
       "<Figure size 432x288 with 1 Axes>"
      ]
     },
     "metadata": {},
     "output_type": "display_data"
    }
   ],
   "source": [
    "# Show Figure\n",
    "plt.show()"
   ]
  },
  {
   "cell_type": "markdown",
   "metadata": {},
   "source": [
    "## Total Rides by City Type"
   ]
  },
  {
   "cell_type": "code",
   "execution_count": 48,
   "metadata": {},
   "outputs": [],
   "source": [
    "# Calculate Ride Percents\n"
   ]
  },
  {
   "cell_type": "code",
   "execution_count": 49,
   "metadata": {},
   "outputs": [
    {
     "name": "stdout",
     "output_type": "stream",
     "text": [
      "type\n",
      "Rural        125\n",
      "Suburban     625\n",
      "Urban       1625\n",
      "Name: ride_id, dtype: int64\n",
      "<class 'pandas.core.series.Series'>\n"
     ]
    }
   ],
   "source": [
    "# Apply count function to ride_id column to get total number of rides by city \n",
    "city_type_total_rides = city_type_fares_group['ride_id'].count()\n",
    "print(city_type_total_rides)\n",
    "print(type(city_type_total_rides))"
   ]
  },
  {
   "cell_type": "code",
   "execution_count": null,
   "metadata": {},
   "outputs": [],
   "source": []
  },
  {
   "cell_type": "code",
   "execution_count": null,
   "metadata": {},
   "outputs": [],
   "source": []
  },
  {
   "cell_type": "code",
   "execution_count": 50,
   "metadata": {},
   "outputs": [
    {
     "name": "stdout",
     "output_type": "stream",
     "text": [
      "type\n",
      "Rural    125\n",
      "Name: ride_id, dtype: int64\n",
      "****\n",
      "125\n"
     ]
    },
    {
     "data": {
      "text/plain": [
       "numpy.int64"
      ]
     },
     "execution_count": 50,
     "metadata": {},
     "output_type": "execute_result"
    }
   ],
   "source": [
    "# calculate number of rural rides and assign to int value\n",
    "rural_rides = city_type_total_rides.iloc[0:1]\n",
    "print(rural_rides)\n",
    "print(\"****\")\n",
    "rural_rides_value = rural_rides.sum()\n",
    "print(rural_rides_value)\n",
    "type(rural_rides_value)"
   ]
  },
  {
   "cell_type": "code",
   "execution_count": 51,
   "metadata": {},
   "outputs": [
    {
     "name": "stdout",
     "output_type": "stream",
     "text": [
      "type\n",
      "Suburban    625\n",
      "Name: ride_id, dtype: int64\n",
      "****\n",
      "625\n"
     ]
    },
    {
     "data": {
      "text/plain": [
       "numpy.int64"
      ]
     },
     "execution_count": 51,
     "metadata": {},
     "output_type": "execute_result"
    }
   ],
   "source": [
    "# calculate number of suburban rides and assign to int value\n",
    "suburban_rides = city_type_total_rides.iloc[1:2]\n",
    "print(suburban_rides)\n",
    "print(\"****\")\n",
    "suburban_rides_value = suburban_rides.sum()\n",
    "print(suburban_rides_value)\n",
    "type(suburban_rides_value)"
   ]
  },
  {
   "cell_type": "code",
   "execution_count": 52,
   "metadata": {},
   "outputs": [
    {
     "name": "stdout",
     "output_type": "stream",
     "text": [
      "type\n",
      "Urban    1625\n",
      "Name: ride_id, dtype: int64\n",
      "****\n",
      "1625\n"
     ]
    },
    {
     "data": {
      "text/plain": [
       "numpy.int64"
      ]
     },
     "execution_count": 52,
     "metadata": {},
     "output_type": "execute_result"
    }
   ],
   "source": [
    "# calculate number of urban rides and assign to int value\n",
    "urban_rides = city_type_total_rides.iloc[2:3]\n",
    "print(urban_rides)\n",
    "print(\"****\")\n",
    "urban_rides_value = urban_rides.sum()\n",
    "print(urban_rides_value)\n",
    "type(urban_rides_value)"
   ]
  },
  {
   "cell_type": "code",
   "execution_count": 53,
   "metadata": {},
   "outputs": [
    {
     "data": {
      "image/png": "[encoded data removed]",
      "text/plain": [
       "<Figure size 432x288 with 1 Axes>"
      ]
     },
     "metadata": {},
     "output_type": "display_data"
    }
   ],
   "source": [
    "# Build Pie Chart\n",
    "rides_city_types = [\"Rural\", \"Suburban\", \"Urban\"]\n",
    "rides_city_types_values = [rural_rides_value,suburban_rides_value,urban_rides_value]\n",
    "colors = [\"gold\",\"lightskyblue\",\"lightcoral\"]\n",
    "explode = (0,0,0.1)\n",
    "\n",
    "# Title\n",
    "plt.title('% of Total Rides by City Type')\n",
    "\n",
    "# Tell matplotlib to create a pie chart based upon the above data\n",
    "plt.pie(rides_city_types_values, explode=explode, labels=rides_city_types, colors=colors,\n",
    "        autopct=\"%1.1f%%\", shadow=True, startangle=140)\n",
    "\n",
    "# Save Figure\n",
    "plt.savefig(\"Images/Pyber_Rides_City_Type.png\")"
   ]
  },
  {
   "cell_type": "code",
   "execution_count": null,
   "metadata": {},
   "outputs": [],
   "source": []
  },
  {
   "cell_type": "code",
   "execution_count": null,
   "metadata": {},
   "outputs": [],
   "source": []
  },
  {
   "cell_type": "code",
   "execution_count": 5,
   "metadata": {},
   "outputs": [
    {
     "data": {
      "image/png": "[encoded data removed]",
      "text/plain": [
       "<Figure size 432x288 with 1 Axes>"
      ]
     },
     "metadata": {},
     "output_type": "display_data"
    }
   ],
   "source": [
    "# Show Figure\n",
    "plt.show()"
   ]
  },
  {
   "cell_type": "markdown",
   "metadata": {},
   "source": [
    "## Total Drivers by City Type"
   ]
  },
  {
   "cell_type": "code",
   "execution_count": 54,
   "metadata": {},
   "outputs": [],
   "source": [
    "# Calculate Driver Percents"
   ]
  },
  {
   "cell_type": "code",
   "execution_count": 55,
   "metadata": {},
   "outputs": [
    {
     "data": {
      "text/plain": [
       "2973"
      ]
     },
     "execution_count": 55,
     "metadata": {},
     "output_type": "execute_result"
    }
   ],
   "source": [
    "# Apply count function to driver_count column to get total number of drivers \n",
    "city_type_total_drivers_df = city_df['driver_count'].sum()\n",
    "city_type_total_drivers_df"
   ]
  },
  {
   "cell_type": "code",
   "execution_count": 56,
   "metadata": {},
   "outputs": [
    {
     "data": {
      "text/plain": [
       "type\n",
       "Rural         78\n",
       "Suburban     490\n",
       "Urban       2405\n",
       "Name: driver_count, dtype: int64"
      ]
     },
     "execution_count": 56,
     "metadata": {},
     "output_type": "execute_result"
    }
   ],
   "source": [
    "# group by type and then take sum to get total number of drivers by type\n",
    "city_type_drivers_group = city_df.groupby(\"type\")\n",
    "city_type_drivers_total = city_type_drivers_group['driver_count'].sum()\n",
    "city_type_drivers_total"
   ]
  },
  {
   "cell_type": "code",
   "execution_count": 57,
   "metadata": {},
   "outputs": [
    {
     "name": "stdout",
     "output_type": "stream",
     "text": [
      "type\n",
      "Rural    78\n",
      "Name: driver_count, dtype: int64\n",
      "****\n",
      "78\n"
     ]
    },
    {
     "data": {
      "text/plain": [
       "numpy.int64"
      ]
     },
     "execution_count": 57,
     "metadata": {},
     "output_type": "execute_result"
    }
   ],
   "source": [
    "# calculate number of rural drivers and assign to int value\n",
    "rural_drivers = city_type_drivers_total.iloc[0:1]\n",
    "print(rural_drivers)\n",
    "print(\"****\")\n",
    "rural_driver_value = rural_drivers.sum()\n",
    "print(rural_driver_value)\n",
    "type(rural_driver_value)"
   ]
  },
  {
   "cell_type": "code",
   "execution_count": 58,
   "metadata": {},
   "outputs": [
    {
     "name": "stdout",
     "output_type": "stream",
     "text": [
      "type\n",
      "Suburban    490\n",
      "Name: driver_count, dtype: int64\n",
      "****\n",
      "490\n"
     ]
    },
    {
     "data": {
      "text/plain": [
       "numpy.int64"
      ]
     },
     "execution_count": 58,
     "metadata": {},
     "output_type": "execute_result"
    }
   ],
   "source": [
    "# calculate number of suburban drivers and assign to int value\n",
    "suburban_drivers = city_type_drivers_total.iloc[1:2]\n",
    "print(suburban_drivers)\n",
    "print(\"****\")\n",
    "suburban_driver_value = suburban_drivers.sum()\n",
    "print(suburban_driver_value)\n",
    "type(suburban_driver_value)"
   ]
  },
  {
   "cell_type": "code",
   "execution_count": 59,
   "metadata": {},
   "outputs": [
    {
     "name": "stdout",
     "output_type": "stream",
     "text": [
      "type\n",
      "Urban    2405\n",
      "Name: driver_count, dtype: int64\n",
      "****\n",
      "2405\n"
     ]
    },
    {
     "data": {
      "text/plain": [
       "numpy.int64"
      ]
     },
     "execution_count": 59,
     "metadata": {},
     "output_type": "execute_result"
    }
   ],
   "source": [
    "# calculate number of urban drivers and assign to int value\n",
    "urban_drivers = city_type_drivers_total.iloc[2:3]\n",
    "print(urban_drivers)\n",
    "print(\"****\")\n",
    "urban_driver_value = urban_drivers.sum()\n",
    "print(urban_driver_value)\n",
    "type(urban_driver_value)"
   ]
  },
  {
   "cell_type": "code",
   "execution_count": 60,
   "metadata": {},
   "outputs": [
    {
     "data": {
      "image/png": "[encoded data removed]",
      "text/plain": [
       "<Figure size 432x288 with 1 Axes>"
      ]
     },
     "metadata": {},
     "output_type": "display_data"
    }
   ],
   "source": [
    "# Build Pie Chart\n",
    "drivers_city_types = [\"Rural\", \"Suburban\", \"Urban\"]\n",
    "drivers_city_types_values = [rural_driver_value,suburban_driver_value,urban_driver_value]\n",
    "colors = [\"gold\",\"lightskyblue\",\"lightcoral\"]\n",
    "explode = (0,0,0.1)\n",
    "\n",
    "# Title\n",
    "plt.title('% of Total Drivers by City Type')\n",
    "\n",
    "# Tell matplotlib to create a pie chart based upon the above data\n",
    "plt.pie(drivers_city_types_values, explode=explode, labels=drivers_city_types, colors=colors,\n",
    "        autopct=\"%1.1f%%\", shadow=True, startangle=140)\n",
    "\n",
    "# Save Figure\n",
    "plt.savefig(\"Images/Pyber_Drivers_City_Type.png\")"
   ]
  },
  {
   "cell_type": "code",
   "execution_count": null,
   "metadata": {},
   "outputs": [],
   "source": []
  },
  {
   "cell_type": "code",
   "execution_count": null,
   "metadata": {},
   "outputs": [],
   "source": []
  },
  {
   "cell_type": "code",
   "execution_count": null,
   "metadata": {},
   "outputs": [],
   "source": []
  },
  {
   "cell_type": "code",
   "execution_count": 6,
   "metadata": {
    "scrolled": true
   },
   "outputs": [
    {
     "data": {
      "image/png": "[encoded data removed]",
      "text/plain": [
       "<Figure size 432x288 with 1 Axes>"
      ]
     },
     "metadata": {},
     "output_type": "display_data"
    }
   ],
   "source": [
    "# Show Figure\n",
    "plt.show()"
   ]
  },
  {
   "cell_type": "code",
   "execution_count": null,
   "metadata": {},
   "outputs": [],
   "source": []
  }
 ],
 "metadata": {
  "anaconda-cloud": {},
  "kernelspec": {
   "display_name": "Python 3",
   "language": "python",
   "name": "python3"
  },
  "language_info": {
   "codemirror_mode": {
    "name": "ipython",
    "version": 3
   },
   "file_extension": ".py",
   "mimetype": "text/x-python",
   "name": "python",
   "nbconvert_exporter": "python",
   "pygments_lexer": "ipython3",
   "version": "3.6.5"
  }
 },
 "nbformat": 4,
 "nbformat_minor": 2
}
